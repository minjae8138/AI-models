{
 "cells": [
  {
   "cell_type": "code",
   "execution_count": 1,
   "metadata": {},
   "outputs": [
    {
     "data": {
      "text/plain": [
       "'C:\\\\ProgramData\\\\Anaconda3\\\\python.exe'"
      ]
     },
     "execution_count": 1,
     "metadata": {},
     "output_type": "execute_result"
    }
   ],
   "source": [
    "import sys \n",
    "sys.executable"
   ]
  },
  {
   "cell_type": "code",
   "execution_count": 2,
   "metadata": {},
   "outputs": [
    {
     "name": "stderr",
     "output_type": "stream",
     "text": [
      "C:\\ProgramData\\Anaconda3\\lib\\site-packages\\torchaudio\\extension\\extension.py:13: UserWarning: torchaudio C++ extension is not available.\n",
      "  warnings.warn('torchaudio C++ extension is not available.')\n",
      "C:\\ProgramData\\Anaconda3\\lib\\site-packages\\torchaudio\\backend\\utils.py:89: UserWarning: No audio backend is available.\n",
      "  warnings.warn('No audio backend is available.')\n"
     ]
    }
   ],
   "source": [
    "import os\n",
    "import re\n",
    "import numpy as np\n",
    "import pandas as pd \n",
    "import urllib.request\n",
    "import matplotlib.pyplot as plt\n",
    "\n",
    "%matplotlib inline\n",
    "\n",
    "from tqdm import tqdm\n",
    "from konlpy.tag import Okt\n",
    "\n",
    "import tensorflow as tf\n",
    "import tensorflow_addons as tfa\n",
    "from transformers import *\n",
    "from tensorflow.keras.preprocessing.sequence import pad_sequences\n",
    "from tensorflow.keras.callbacks import EarlyStopping, ModelCheckpoint\n",
    "from tensorflow.keras.preprocessing.text import Tokenizer\n",
    "from tensorflow.python.client import device_lib\n",
    "\n",
    "from sklearn.model_selection import train_test_split\n",
    "from sklearn.preprocessing import LabelEncoder\n",
    "from sklearn.metrics import confusion_matrix"
   ]
  },
  {
   "cell_type": "code",
   "execution_count": 3,
   "metadata": {},
   "outputs": [],
   "source": [
    "# 시각화\n",
    "def plot_graphs(history, string):\n",
    "    plt.plot(history.history[string])\n",
    "    plt.plot(history.history['val_'+string], '')\n",
    "    plt.xlabel(\"Epochs\")\n",
    "    plt.ylabel(string)\n",
    "    plt.legend([string, 'val_'+string])\n",
    "    plt.show()"
   ]
  },
  {
   "cell_type": "code",
   "execution_count": 4,
   "metadata": {},
   "outputs": [
    {
     "data": {
      "text/plain": [
       "[name: \"/device:CPU:0\"\n",
       " device_type: \"CPU\"\n",
       " memory_limit: 268435456\n",
       " locality {\n",
       " }\n",
       " incarnation: 14869057385377215971,\n",
       " name: \"/device:GPU:0\"\n",
       " device_type: \"GPU\"\n",
       " memory_limit: 4971491488\n",
       " locality {\n",
       "   bus_id: 1\n",
       "   links {\n",
       "   }\n",
       " }\n",
       " incarnation: 11305015520845086027\n",
       " physical_device_desc: \"device: 0, name: GeForce GTX 1660 Ti with Max-Q Design, pci bus id: 0000:01:00.0, compute capability: 7.5\"]"
      ]
     },
     "execution_count": 4,
     "metadata": {},
     "output_type": "execute_result"
    }
   ],
   "source": [
    "device_lib.list_local_devices()"
   ]
  },
  {
   "cell_type": "code",
   "execution_count": 5,
   "metadata": {
    "scrolled": true
   },
   "outputs": [
    {
     "name": "stdout",
     "output_type": "stream",
     "text": [
      "<class 'pandas.core.frame.DataFrame'>\n",
      "RangeIndex: 15996 entries, 0 to 15995\n",
      "Data columns (total 6 columns):\n",
      " #   Column           Non-Null Count  Dtype  \n",
      "---  ------           --------------  -----  \n",
      " 0   Text             15996 non-null  object \n",
      " 1   Feeling_Saltlux  15996 non-null  int64  \n",
      " 2   Feeling          12443 non-null  float64\n",
      " 3   Talking          12377 non-null  float64\n",
      " 4   book_id          12442 non-null  float64\n",
      " 5   sentence_id      12377 non-null  float64\n",
      "dtypes: float64(4), int64(1), object(1)\n",
      "memory usage: 749.9+ KB\n"
     ]
    }
   ],
   "source": [
    "data = pd.read_csv('./data/test_data0422_청와대_수작업.csv', encoding = 'euc-kr')\n",
    "data.info()"
   ]
  },
  {
   "cell_type": "code",
   "execution_count": 6,
   "metadata": {},
   "outputs": [
    {
     "data": {
      "text/html": [
       "<div>\n",
       "<style scoped>\n",
       "    .dataframe tbody tr th:only-of-type {\n",
       "        vertical-align: middle;\n",
       "    }\n",
       "\n",
       "    .dataframe tbody tr th {\n",
       "        vertical-align: top;\n",
       "    }\n",
       "\n",
       "    .dataframe thead th {\n",
       "        text-align: right;\n",
       "    }\n",
       "</style>\n",
       "<table border=\"1\" class=\"dataframe\">\n",
       "  <thead>\n",
       "    <tr style=\"text-align: right;\">\n",
       "      <th></th>\n",
       "      <th>Text</th>\n",
       "      <th>Feeling_Saltlux</th>\n",
       "    </tr>\n",
       "  </thead>\n",
       "  <tbody>\n",
       "    <tr>\n",
       "      <th>54</th>\n",
       "      <td>라고 말했어요</td>\n",
       "      <td>4</td>\n",
       "    </tr>\n",
       "    <tr>\n",
       "      <th>143</th>\n",
       "      <td>*젬지 산아, 젬지 산아, 열리거라*</td>\n",
       "      <td>4</td>\n",
       "    </tr>\n",
       "    <tr>\n",
       "      <th>150</th>\n",
       "      <td>*젬지 산아, 젬지 산아, 닫히거라*</td>\n",
       "      <td>1</td>\n",
       "    </tr>\n",
       "    <tr>\n",
       "      <th>172</th>\n",
       "      <td>*젬지 산아, 젬지 산아, 열리거라*</td>\n",
       "      <td>4</td>\n",
       "    </tr>\n",
       "    <tr>\n",
       "      <th>215</th>\n",
       "      <td>라고 그가 말했어요</td>\n",
       "      <td>5</td>\n",
       "    </tr>\n",
       "    <tr>\n",
       "      <th>...</th>\n",
       "      <td>...</td>\n",
       "      <td>...</td>\n",
       "    </tr>\n",
       "    <tr>\n",
       "      <th>15275</th>\n",
       "      <td>라고 말했지요</td>\n",
       "      <td>4</td>\n",
       "    </tr>\n",
       "    <tr>\n",
       "      <th>15322</th>\n",
       "      <td></td>\n",
       "      <td>6</td>\n",
       "    </tr>\n",
       "    <tr>\n",
       "      <th>15753</th>\n",
       "      <td>라고 말했습니다</td>\n",
       "      <td>4</td>\n",
       "    </tr>\n",
       "    <tr>\n",
       "      <th>15790</th>\n",
       "      <td>라고 말했습니다</td>\n",
       "      <td>4</td>\n",
       "    </tr>\n",
       "    <tr>\n",
       "      <th>15914</th>\n",
       "      <td>*</td>\n",
       "      <td>6</td>\n",
       "    </tr>\n",
       "  </tbody>\n",
       "</table>\n",
       "<p>1006 rows × 2 columns</p>\n",
       "</div>"
      ],
      "text/plain": [
       "                       Text  Feeling_Saltlux\n",
       "54                  라고 말했어요                4\n",
       "143    *젬지 산아, 젬지 산아, 열리거라*                4\n",
       "150    *젬지 산아, 젬지 산아, 닫히거라*                1\n",
       "172    *젬지 산아, 젬지 산아, 열리거라*                4\n",
       "215              라고 그가 말했어요                5\n",
       "...                     ...              ...\n",
       "15275               라고 말했지요                4\n",
       "15322                                      6\n",
       "15753              라고 말했습니다                4\n",
       "15790              라고 말했습니다                4\n",
       "15914                     *                6\n",
       "\n",
       "[1006 rows x 2 columns]"
      ]
     },
     "metadata": {},
     "output_type": "display_data"
    }
   ],
   "source": [
    "data = data.iloc[:,:2]\n",
    "data['Text'].nunique(), data['Feeling_Saltlux'].nunique()\n",
    "display(data[data.duplicated()])"
   ]
  },
  {
   "cell_type": "code",
   "execution_count": 7,
   "metadata": {},
   "outputs": [
    {
     "data": {
      "text/plain": [
       "<AxesSubplot:>"
      ]
     },
     "execution_count": 7,
     "metadata": {},
     "output_type": "execute_result"
    },
    {
     "data": {
      "image/png": "[encoded data removed]",
      "text/plain": [
       "<Figure size 432x288 with 1 Axes>"
      ]
     },
     "metadata": {
      "needs_background": "light"
     },
     "output_type": "display_data"
    }
   ],
   "source": [
    "data['Feeling_Saltlux'].value_counts().plot(kind='bar')"
   ]
  },
  {
   "cell_type": "code",
   "execution_count": 8,
   "metadata": {},
   "outputs": [
    {
     "data": {
      "text/plain": [
       "0        1\n",
       "1        2\n",
       "2        3\n",
       "3        4\n",
       "4        5\n",
       "        ..\n",
       "15991    4\n",
       "15992    5\n",
       "15993    5\n",
       "15994    4\n",
       "15995    4\n",
       "Name: Feeling_Saltlux, Length: 15996, dtype: int64"
      ]
     },
     "execution_count": 8,
     "metadata": {},
     "output_type": "execute_result"
    }
   ],
   "source": [
    "#  결측치 제거\n",
    "data.isnull().sum()\n",
    "data = data.dropna(how = 'any')\n",
    "data = data.astype({\"Feeling_Saltlux\" : 'int64'})\n",
    "data['Feeling_Saltlux']"
   ]
  },
  {
   "cell_type": "code",
   "execution_count": 9,
   "metadata": {},
   "outputs": [
    {
     "data": {
      "text/html": [
       "<div>\n",
       "<style scoped>\n",
       "    .dataframe tbody tr th:only-of-type {\n",
       "        vertical-align: middle;\n",
       "    }\n",
       "\n",
       "    .dataframe tbody tr th {\n",
       "        vertical-align: top;\n",
       "    }\n",
       "\n",
       "    .dataframe thead th {\n",
       "        text-align: right;\n",
       "    }\n",
       "</style>\n",
       "<table border=\"1\" class=\"dataframe\">\n",
       "  <thead>\n",
       "    <tr style=\"text-align: right;\">\n",
       "      <th></th>\n",
       "      <th>Text</th>\n",
       "      <th>Feeling_Saltlux</th>\n",
       "    </tr>\n",
       "  </thead>\n",
       "  <tbody>\n",
       "    <tr>\n",
       "      <th>0</th>\n",
       "      <td>인도가 적에게 포위를 당했는데 적들이 은화 백 개를 내놓을 때까지 물러나지 않겠다고...</td>\n",
       "      <td>1</td>\n",
       "    </tr>\n",
       "    <tr>\n",
       "      <th>1</th>\n",
       "      <td>그래서 주민들이 북을 치며 선포하길</td>\n",
       "      <td>2</td>\n",
       "    </tr>\n",
       "    <tr>\n",
       "      <th>2</th>\n",
       "      <td>누구든 그 돈을 마련하는 사람을 시장으로 삼겠다</td>\n",
       "      <td>3</td>\n",
       "    </tr>\n",
       "    <tr>\n",
       "      <th>3</th>\n",
       "      <td>라고 했답니다</td>\n",
       "      <td>4</td>\n",
       "    </tr>\n",
       "    <tr>\n",
       "      <th>4</th>\n",
       "      <td>때마침 가난한 어부가 자신의 아들과 호수에서 물고기를 잡아 생활하다 그 적들이 들이...</td>\n",
       "      <td>5</td>\n",
       "    </tr>\n",
       "    <tr>\n",
       "      <th>...</th>\n",
       "      <td>...</td>\n",
       "      <td>...</td>\n",
       "    </tr>\n",
       "    <tr>\n",
       "      <th>15991</th>\n",
       "      <td>종이 세번 울리자 구렁이는 남편의 복수를 하지 못한 것에 분해 하며 용이 되어 승...</td>\n",
       "      <td>4</td>\n",
       "    </tr>\n",
       "    <tr>\n",
       "      <th>15992</th>\n",
       "      <td>구사일생으로 목숨을 건진 선비는 누가 종을 울렸는지 궁금해서 종이 있는 곳으로 가...</td>\n",
       "      <td>5</td>\n",
       "    </tr>\n",
       "    <tr>\n",
       "      <th>15993</th>\n",
       "      <td>새끼 까치를 살려준 은혜를 갚기 위해 어미까치는 선비를 살리기 위해 자신의 몸을 ...</td>\n",
       "      <td>5</td>\n",
       "    </tr>\n",
       "    <tr>\n",
       "      <th>15994</th>\n",
       "      <td>선비는 은혜를 갚고 죽은 까치들을 거둬 잘 묻어주었습니다</td>\n",
       "      <td>4</td>\n",
       "    </tr>\n",
       "    <tr>\n",
       "      <th>15995</th>\n",
       "      <td>까치는 선비에게 은혜를 갚기 위해 자신의 몸을 던져 종을 울렸습니다</td>\n",
       "      <td>4</td>\n",
       "    </tr>\n",
       "  </tbody>\n",
       "</table>\n",
       "<p>15996 rows × 2 columns</p>\n",
       "</div>"
      ],
      "text/plain": [
       "                                                    Text  Feeling_Saltlux\n",
       "0      인도가 적에게 포위를 당했는데 적들이 은화 백 개를 내놓을 때까지 물러나지 않겠다고...                1\n",
       "1                                   그래서 주민들이 북을 치며 선포하길                 2\n",
       "2                             누구든 그 돈을 마련하는 사람을 시장으로 삼겠다                3\n",
       "3                                                라고 했답니다                4\n",
       "4      때마침 가난한 어부가 자신의 아들과 호수에서 물고기를 잡아 생활하다 그 적들이 들이...                5\n",
       "...                                                  ...              ...\n",
       "15991   종이 세번 울리자 구렁이는 남편의 복수를 하지 못한 것에 분해 하며 용이 되어 승...                4\n",
       "15992   구사일생으로 목숨을 건진 선비는 누가 종을 울렸는지 궁금해서 종이 있는 곳으로 가...                5\n",
       "15993   새끼 까치를 살려준 은혜를 갚기 위해 어미까치는 선비를 살리기 위해 자신의 몸을 ...                5\n",
       "15994                    선비는 은혜를 갚고 죽은 까치들을 거둬 잘 묻어주었습니다                4\n",
       "15995              까치는 선비에게 은혜를 갚기 위해 자신의 몸을 던져 종을 울렸습니다                4\n",
       "\n",
       "[15996 rows x 2 columns]"
      ]
     },
     "execution_count": 9,
     "metadata": {},
     "output_type": "execute_result"
    }
   ],
   "source": [
    "# 한글만 남기기 \n",
    "data['Text'] = data['Text'].str.replace(\"[^ㄱ-ㅎㅏ-ㅣ가-힣 ]\",\"\")\n",
    "data"
   ]
  },
  {
   "cell_type": "code",
   "execution_count": 10,
   "metadata": {
    "scrolled": false
   },
   "outputs": [],
   "source": [
    "train_data = data[2000:]  # train ( 2000 : )  / val ( : 2000)\n",
    "test_data  = data[:2000]"
   ]
  },
  {
   "cell_type": "code",
   "execution_count": 20,
   "metadata": {},
   "outputs": [
    {
     "name": "stdout",
     "output_type": "stream",
     "text": [
      "Empty DataFrame\n",
      "Columns: [Text, Feeling_Saltlux]\n",
      "Index: []\n"
     ]
    }
   ],
   "source": [
    "print(data.iloc[:0])"
   ]
  },
  {
   "cell_type": "code",
   "execution_count": 11,
   "metadata": {},
   "outputs": [],
   "source": [
    "data_df.to_csv('GPT2_Test.txt')"
   ]
  },
  {
   "cell_type": "code",
   "execution_count": null,
   "metadata": {},
   "outputs": [],
   "source": []
  },
  {
   "cell_type": "code",
   "execution_count": null,
   "metadata": {},
   "outputs": [],
   "source": []
  },
  {
   "cell_type": "code",
   "execution_count": 11,
   "metadata": {},
   "outputs": [],
   "source": [
    "train_length  = train_data['Text'].apply(len)"
   ]
  },
  {
   "cell_type": "code",
   "execution_count": 12,
   "metadata": {},
   "outputs": [
    {
     "name": "stdout",
     "output_type": "stream",
     "text": [
      "문장 길이 최대 값: 393\n",
      "문장 길이 최소 값: 0\n",
      "문장 길이 평균 값: 32.45\n",
      "문장 길이 표준편차: 22.60\n",
      "문장 길이 중간 값: 28.0\n",
      "문장 길이 제 1 사분위: 16.0\n",
      "문장 길이 제 3 사분위: 43.0\n"
     ]
    }
   ],
   "source": [
    "print('문장 길이 최대 값: {}'.format(np.max(train_length)))\n",
    "print('문장 길이 최소 값: {}'.format(np.min(train_length)))\n",
    "print('문장 길이 평균 값: {:.2f}'.format(np.mean(train_length)))\n",
    "print('문장 길이 표준편차: {:.2f}'.format(np.std(train_length)))\n",
    "print('문장 길이 중간 값: {}'.format(np.median(train_length)))\n",
    "print('문장 길이 제 1 사분위: {}'.format(np.percentile(train_length, 25)))\n",
    "print('문장 길이 제 3 사분위: {}'.format(np.percentile(train_length, 75)))"
   ]
  },
  {
   "cell_type": "code",
   "execution_count": 13,
   "metadata": {},
   "outputs": [],
   "source": [
    "#random seed 고정\n",
    "tf.random.set_seed(1234)\n",
    "np.random.seed(1234)\n",
    "\n",
    "BATCH_SIZE = 16\n",
    "NUM_EPOCHS = 20\n",
    "#B VALID_SPLIT = 0.2\n",
    "MAX_LEN = 43 # EDA에서 추출된 Max Length\n",
    "DATA_IN_PATH = 'data_in/KOR'\n",
    "DATA_OUT_PATH = \"data_out/KOR\""
   ]
  },
  {
   "cell_type": "code",
   "execution_count": 14,
   "metadata": {},
   "outputs": [],
   "source": [
    "tokenizer = BertTokenizer.from_pretrained(\"bert-base-multilingual-cased\", cache_dir='bert_ckpt', do_lower_case=False)"
   ]
  },
  {
   "cell_type": "code",
   "execution_count": 15,
   "metadata": {},
   "outputs": [],
   "source": [
    "def bert_tokenizer(sent, MAX_LEN):\n",
    "    \n",
    "    encoded_dict = tokenizer.encode_plus(\n",
    "        text = sent,\n",
    "        add_special_tokens = True, # Add '[CLS]' and '[SEP]'\n",
    "        max_length = MAX_LEN,           # Pad & truncate all sentences.\n",
    "        pad_to_max_length = True,\n",
    "        return_attention_mask = True   # Construct attn. masks.\n",
    "        \n",
    "    )\n",
    "    \n",
    "    input_id = encoded_dict['input_ids']\n",
    "    attention_mask = encoded_dict['attention_mask'] # And its attention mask (simply differentiates padding from non-padding).\n",
    "    token_type_id = encoded_dict['token_type_ids'] # differentiate two sentences\n",
    "    \n",
    "    return input_id, attention_mask, token_type_id"
   ]
  },
  {
   "cell_type": "code",
   "execution_count": 16,
   "metadata": {},
   "outputs": [
    {
     "name": "stderr",
     "output_type": "stream",
     "text": [
      "  0%|                                                                                        | 0/13996 [00:00<?, ?it/s]Truncation was not explicitly activated but `max_length` is provided a specific value, please use `truncation=True` to explicitly truncate examples to max length. Defaulting to 'longest_first' truncation strategy. If you encode pairs of sequences (GLUE-style) with the tokenizer you can select this strategy more precisely by providing a specific strategy to `truncation`.\n",
      "C:\\Users\\Changho_Notebook\\anaconda3\\lib\\site-packages\\transformers\\tokenization_utils_base.py:2073: FutureWarning: The `pad_to_max_length` argument is deprecated and will be removed in a future version, use `padding=True` or `padding='longest'` to pad to the longest sequence in the batch, or use `padding='max_length'` to pad to a max length. In this case, you can give a specific length with `max_length` (e.g. `max_length=45`) or leave max_length to None to pad to the maximal input size of the model (e.g. 512 for Bert).\n",
      "  warnings.warn(\n",
      "100%|██████████████████████████████████████████████████████████████████████████| 13996/13996 [00:02<00:00, 4710.57it/s]"
     ]
    },
    {
     "name": "stdout",
     "output_type": "stream",
     "text": [
      "# sents: 13996, # labels: 13996\n"
     ]
    },
    {
     "name": "stderr",
     "output_type": "stream",
     "text": [
      "\n"
     ]
    }
   ],
   "source": [
    "input_ids = []\n",
    "attention_masks = []\n",
    "token_type_ids = []\n",
    "train_data_labels = []\n",
    "\n",
    "for train_sent, train_label in tqdm(zip(train_data[\"Text\"], train_data[\"Feeling_Saltlux\"]), total=len(train_data)):\n",
    "    try:\n",
    "        input_id, attention_mask, token_type_id = bert_tokenizer(train_sent, MAX_LEN)\n",
    "        \n",
    "        input_ids.append(input_id)\n",
    "        attention_masks.append(attention_mask)\n",
    "        token_type_ids.append(token_type_id)\n",
    "        train_data_labels.append(train_label)\n",
    "\n",
    "    except Exception as e:\n",
    "        print(e)\n",
    "        print(train_sent)\n",
    "        pass\n",
    "\n",
    "train_movie_input_ids = np.array(input_ids, dtype=int)\n",
    "train_movie_attention_masks = np.array(attention_masks, dtype=int)\n",
    "train_movie_type_ids = np.array(token_type_ids, dtype=int)\n",
    "train_movie_inputs = (train_movie_input_ids, train_movie_attention_masks, train_movie_type_ids)\n",
    "\n",
    "train_data_labels = np.asarray(train_data_labels, dtype=np.int32) #레이블 토크나이징 리스트\n",
    "\n",
    "print(\"# sents: {}, # labels: {}\".format(len(train_movie_input_ids), len(train_data_labels)))"
   ]
  },
  {
   "cell_type": "code",
   "execution_count": 17,
   "metadata": {},
   "outputs": [
    {
     "name": "stdout",
     "output_type": "stream",
     "text": [
      "[   101   9580   9407   8867   9266  12508   9251  11664   9690  10892\n",
      "   8870  19105   9266  11018   8872   9074  79633   8863   9519 118728\n",
      "    102      0      0      0      0      0      0      0      0      0\n",
      "      0      0      0      0      0      0      0      0      0      0\n",
      "      0      0      0]\n",
      "[1 1 1 1 1 1 1 1 1 1 1 1 1 1 1 1 1 1 1 1 1 0 0 0 0 0 0 0 0 0 0 0 0 0 0 0 0\n",
      " 0 0 0 0 0 0]\n",
      "[0 0 0 0 0 0 0 0 0 0 0 0 0 0 0 0 0 0 0 0 0 0 0 0 0 0 0 0 0 0 0 0 0 0 0 0 0\n",
      " 0 0 0 0 0 0]\n",
      "[CLS] 오 산 걸 먹지 말고 죽은 것만 먹는 게 더 좋은 거 아냐 [SEP] [PAD] [PAD] [PAD] [PAD] [PAD] [PAD] [PAD] [PAD] [PAD] [PAD] [PAD] [PAD] [PAD] [PAD] [PAD] [PAD] [PAD] [PAD] [PAD] [PAD] [PAD] [PAD]\n"
     ]
    }
   ],
   "source": [
    "# 첫문장 패딩 Test\n",
    "input_id = train_movie_input_ids[1]\n",
    "attention_mask = train_movie_attention_masks[1]\n",
    "token_type_id = train_movie_type_ids[1]\n",
    "\n",
    "print(input_id)\n",
    "print(attention_mask)\n",
    "print(token_type_id)\n",
    "print(tokenizer.decode(input_id))"
   ]
  },
  {
   "cell_type": "code",
   "execution_count": 18,
   "metadata": {
    "scrolled": false
   },
   "outputs": [
    {
     "name": "stderr",
     "output_type": "stream",
     "text": [
      "Some layers from the model checkpoint at bert-base-multilingual-cased were not used when initializing TFBertModel: ['mlm___cls', 'nsp___cls']\n",
      "- This IS expected if you are initializing TFBertModel from the checkpoint of a model trained on another task or with another architecture (e.g. initializing a BertForSequenceClassification model from a BertForPreTraining model).\n",
      "- This IS NOT expected if you are initializing TFBertModel from the checkpoint of a model that you expect to be exactly identical (initializing a BertForSequenceClassification model from a BertForSequenceClassification model).\n",
      "All the layers of TFBertModel were initialized from the model checkpoint at bert-base-multilingual-cased.\n",
      "If your task is similar to the task the model of the checkpoint was trained on, you can already use TFBertModel for predictions without further training.\n"
     ]
    }
   ],
   "source": [
    "class TFBertClassifier(tf.keras.Model):\n",
    "    def __init__(self, model_name, dir_path, num_class):\n",
    "        super(TFBertClassifier, self).__init__()\n",
    "\n",
    "        self.bert = TFBertModel.from_pretrained(model_name, cache_dir=dir_path)\n",
    "        self.dropout = tf.keras.layers.Dropout(self.bert.config.hidden_dropout_prob)\n",
    "        self.classifier = tf.keras.layers.Dense(num_class, \n",
    "                                                kernel_initializer=tf.keras.initializers.TruncatedNormal(self.bert.config.initializer_range), \n",
    "                                                name=\"classifier\")\n",
    "        \n",
    "    def call(self, inputs, attention_mask=None, token_type_ids=None, training=False):\n",
    "        \n",
    "        #outputs 값: # sequence_output, pooled_output, (hidden_states), (attentions)\n",
    "        outputs = self.bert(inputs, attention_mask=attention_mask, token_type_ids=token_type_ids)\n",
    "        pooled_output = outputs[1] \n",
    "        pooled_output = self.dropout(pooled_output, training=training)\n",
    "        logits = self.classifier(pooled_output)\n",
    "\n",
    "        return logits\n",
    "\n",
    "cls_model = TFBertClassifier(model_name='bert-base-multilingual-cased',\n",
    "                                  dir_path='bert_ckpt',\n",
    "                                  num_class=8)"
   ]
  },
  {
   "cell_type": "code",
   "execution_count": 19,
   "metadata": {},
   "outputs": [],
   "source": [
    "optimizer = tfa.optimizers.RectifiedAdam(lr=5.0e-5, total_steps = 2344*2, warmup_proportion=0.1, min_lr=1e-5, epsilon=1e-08, clipnorm=1.0)\n",
    "loss = tf.keras.losses.SparseCategoricalCrossentropy(from_logits=True)\n",
    "metric = tf.keras.metrics.SparseCategoricalAccuracy('accuracy')\n",
    "cls_model.compile(optimizer=optimizer, loss=loss, metrics=[metric])"
   ]
  },
  {
   "cell_type": "code",
   "execution_count": 20,
   "metadata": {},
   "outputs": [
    {
     "data": {
      "text/plain": [
       "(array([[   101,   8924,  30873, ...,      0,      0,      0],\n",
       "        [   101,   9580,   9407, ...,      0,      0,      0],\n",
       "        [   101,   9672,  29455, ...,      0,      0,      0],\n",
       "        ...,\n",
       "        [   101,   9415, 118710, ...,      0,      0,      0],\n",
       "        [   101,   9428,  29455, ...,      0,      0,      0],\n",
       "        [   101,   8939,  72087, ...,      0,      0,      0]]),\n",
       " array([[1, 1, 1, ..., 0, 0, 0],\n",
       "        [1, 1, 1, ..., 0, 0, 0],\n",
       "        [1, 1, 1, ..., 0, 0, 0],\n",
       "        ...,\n",
       "        [1, 1, 1, ..., 0, 0, 0],\n",
       "        [1, 1, 1, ..., 0, 0, 0],\n",
       "        [1, 1, 1, ..., 0, 0, 0]]),\n",
       " array([[0, 0, 0, ..., 0, 0, 0],\n",
       "        [0, 0, 0, ..., 0, 0, 0],\n",
       "        [0, 0, 0, ..., 0, 0, 0],\n",
       "        ...,\n",
       "        [0, 0, 0, ..., 0, 0, 0],\n",
       "        [0, 0, 0, ..., 0, 0, 0],\n",
       "        [0, 0, 0, ..., 0, 0, 0]]))"
      ]
     },
     "execution_count": 20,
     "metadata": {},
     "output_type": "execute_result"
    }
   ],
   "source": [
    "train_movie_inputs"
   ]
  },
  {
   "cell_type": "code",
   "execution_count": 21,
   "metadata": {},
   "outputs": [],
   "source": [
    "x_train = train_movie_inputs[0][2000:], train_movie_inputs[1][2000:], train_movie_inputs[2][2000:]\n",
    "x_val   = train_movie_inputs[0][:2000], train_movie_inputs[1][:2000], train_movie_inputs[2][:2000]\n",
    "\n",
    "y_train = train_data_labels [2000:]\n",
    "y_val   = train_data_labels [:2000]"
   ]
  },
  {
   "cell_type": "code",
   "execution_count": 22,
   "metadata": {},
   "outputs": [
    {
     "data": {
      "text/plain": [
       "(array([[   101,   9157,  21406, ...,      0,      0,      0],\n",
       "        [   101,   9636,  21928, ...,      0,      0,      0],\n",
       "        [   101,   8924, 118871, ...,      0,      0,      0],\n",
       "        ...,\n",
       "        [   101,   9415, 118710, ...,      0,      0,      0],\n",
       "        [   101,   9428,  29455, ...,      0,      0,      0],\n",
       "        [   101,   8939,  72087, ...,      0,      0,      0]]),\n",
       " array([[1, 1, 1, ..., 0, 0, 0],\n",
       "        [1, 1, 1, ..., 0, 0, 0],\n",
       "        [1, 1, 1, ..., 0, 0, 0],\n",
       "        ...,\n",
       "        [1, 1, 1, ..., 0, 0, 0],\n",
       "        [1, 1, 1, ..., 0, 0, 0],\n",
       "        [1, 1, 1, ..., 0, 0, 0]]),\n",
       " array([[0, 0, 0, ..., 0, 0, 0],\n",
       "        [0, 0, 0, ..., 0, 0, 0],\n",
       "        [0, 0, 0, ..., 0, 0, 0],\n",
       "        ...,\n",
       "        [0, 0, 0, ..., 0, 0, 0],\n",
       "        [0, 0, 0, ..., 0, 0, 0],\n",
       "        [0, 0, 0, ..., 0, 0, 0]]))"
      ]
     },
     "execution_count": 22,
     "metadata": {},
     "output_type": "execute_result"
    }
   ],
   "source": [
    "x_train"
   ]
  },
  {
   "cell_type": "code",
   "execution_count": null,
   "metadata": {},
   "outputs": [],
   "source": []
  },
  {
   "cell_type": "code",
   "execution_count": 23,
   "metadata": {},
   "outputs": [
    {
     "name": "stdout",
     "output_type": "stream",
     "text": [
      "data_out/KOR\\tf2_bert_naver_movie -- Folder already exists \n",
      "\n",
      "Epoch 1/20\n",
      "WARNING:tensorflow:The parameters `output_attentions`, `output_hidden_states` and `use_cache` cannot be updated when calling a model.They have to be set to True/False in the config object (i.e.: `config=XConfig.from_pretrained('name', output_attentions=True)`).\n",
      "WARNING:tensorflow:AutoGraph could not transform <bound method Socket.send of <zmq.sugar.socket.Socket object at 0x000002570C4DBA60>> and will run it as-is.\n",
      "Please report this to the TensorFlow team. When filing the bug, set the verbosity to 10 (on Linux, `export AUTOGRAPH_VERBOSITY=10`) and attach the full output.\n",
      "Cause: module, class, method, function, traceback, frame, or code object was expected, got cython_function_or_method\n",
      "To silence this warning, decorate the function with @tf.autograph.experimental.do_not_convert\n",
      "WARNING: AutoGraph could not transform <bound method Socket.send of <zmq.sugar.socket.Socket object at 0x000002570C4DBA60>> and will run it as-is.\n",
      "Please report this to the TensorFlow team. When filing the bug, set the verbosity to 10 (on Linux, `export AUTOGRAPH_VERBOSITY=10`) and attach the full output.\n",
      "Cause: module, class, method, function, traceback, frame, or code object was expected, got cython_function_or_method\n",
      "To silence this warning, decorate the function with @tf.autograph.experimental.do_not_convert\n",
      "WARNING:tensorflow:The parameter `return_dict` cannot be set in graph mode and will always be set to `True`.\n",
      "WARNING:tensorflow:The parameters `output_attentions`, `output_hidden_states` and `use_cache` cannot be updated when calling a model.They have to be set to True/False in the config object (i.e.: `config=XConfig.from_pretrained('name', output_attentions=True)`).\n",
      "WARNING:tensorflow:The parameter `return_dict` cannot be set in graph mode and will always be set to `True`.\n",
      "750/750 [==============================] - ETA: 0s - loss: 1.5992 - accuracy: 0.4214WARNING:tensorflow:The parameters `output_attentions`, `output_hidden_states` and `use_cache` cannot be updated when calling a model.They have to be set to True/False in the config object (i.e.: `config=XConfig.from_pretrained('name', output_attentions=True)`).\n",
      "WARNING:tensorflow:The parameter `return_dict` cannot be set in graph mode and will always be set to `True`.\n",
      "750/750 [==============================] - 478s 569ms/step - loss: 1.5989 - accuracy: 0.4215 - val_loss: 1.1926 - val_accuracy: 0.5575\n",
      "\n",
      "Epoch 00001: val_accuracy improved from -inf to 0.55750, saving model to data_out/KOR\\tf2_bert_naver_movie\\weights.h5\n",
      "Epoch 2/20\n",
      "750/750 [==============================] - 426s 568ms/step - loss: 1.0483 - accuracy: 0.6114 - val_loss: 1.0340 - val_accuracy: 0.6095\n",
      "\n",
      "Epoch 00002: val_accuracy improved from 0.55750 to 0.60950, saving model to data_out/KOR\\tf2_bert_naver_movie\\weights.h5\n",
      "Epoch 3/20\n",
      "750/750 [==============================] - 468s 624ms/step - loss: 0.7909 - accuracy: 0.7203 - val_loss: 1.0940 - val_accuracy: 0.6335\n",
      "\n",
      "Epoch 00003: val_accuracy improved from 0.60950 to 0.63350, saving model to data_out/KOR\\tf2_bert_naver_movie\\weights.h5\n",
      "Epoch 4/20\n",
      "750/750 [==============================] - 436s 581ms/step - loss: 0.5732 - accuracy: 0.7962 - val_loss: 1.2371 - val_accuracy: 0.6230\n",
      "\n",
      "Epoch 00004: val_accuracy did not improve from 0.63350\n",
      "Epoch 5/20\n",
      "750/750 [==============================] - 485s 647ms/step - loss: 0.3757 - accuracy: 0.8718 - val_loss: 1.5259 - val_accuracy: 0.6065\n",
      "\n",
      "Epoch 00005: val_accuracy did not improve from 0.63350\n",
      "Epoch 6/20\n",
      "750/750 [==============================] - 440s 587ms/step - loss: 0.2157 - accuracy: 0.9288 - val_loss: 1.9011 - val_accuracy: 0.6010\n",
      "\n",
      "Epoch 00006: val_accuracy did not improve from 0.63350\n",
      "Epoch 7/20\n",
      "750/750 [==============================] - 440s 587ms/step - loss: 0.1159 - accuracy: 0.9593 - val_loss: 2.1842 - val_accuracy: 0.6190\n",
      "\n",
      "Epoch 00007: val_accuracy did not improve from 0.63350\n",
      "Epoch 8/20\n",
      "750/750 [==============================] - 438s 584ms/step - loss: 0.0768 - accuracy: 0.9757 - val_loss: 2.3064 - val_accuracy: 0.6315\n",
      "\n",
      "Epoch 00008: val_accuracy did not improve from 0.63350\n",
      "{'loss': [1.3733925819396973, 1.0215802192687988, 0.802786648273468, 0.5801827311515808, 0.37173992395401, 0.21577441692352295, 0.11514847725629807, 0.07917112857103348], 'accuracy': [0.4789096415042877, 0.6194564700126648, 0.7116538882255554, 0.7950983643531799, 0.8715404868125916, 0.9278926253318787, 0.9590696692466736, 0.9737412333488464], 'val_loss': [1.1925506591796875, 1.0340098142623901, 1.0939668416976929, 1.237099528312683, 1.525935173034668, 1.9011015892028809, 2.184197425842285, 2.3063852787017822], 'val_accuracy': [0.5575000047683716, 0.609499990940094, 0.6334999799728394, 0.6230000257492065, 0.6065000295639038, 0.6010000109672546, 0.6190000176429749, 0.6315000057220459]}\n"
     ]
    }
   ],
   "source": [
    "model_name = \"tf2_bert_naver_movie\"\n",
    "\n",
    "# overfitting을 막기 위한 ealrystop 추가\n",
    "earlystop_callback = EarlyStopping(monitor='val_accuracy', min_delta=0.0001,patience=4)\n",
    "\n",
    "# min_delta: the threshold that triggers the termination (acc should at least improve 0.0001)\n",
    "# patience: no improvment epochs (patience = 1, 1번 이상 상승이 없으면 종료)\\\n",
    "\n",
    "checkpoint_path = os.path.join(DATA_OUT_PATH, model_name, 'weights.h5')\n",
    "checkpoint_dir = os.path.dirname(checkpoint_path)\n",
    "\n",
    "# Create path if exists\n",
    "if os.path.exists(checkpoint_dir):\n",
    "    print(\"{} -- Folder already exists \\n\".format(checkpoint_dir))\n",
    "else:\n",
    "    os.makedirs(checkpoint_dir, exist_ok=True)\n",
    "    print(\"{} -- Folder create complete \\n\".format(checkpoint_dir))\n",
    "    \n",
    "cp_callback = ModelCheckpoint(\n",
    "    checkpoint_path, monitor='val_accuracy', verbose=2, save_best_only=True, save_weights_only=True)\n",
    "\n",
    "# 학습과 eval 시작\n",
    "history = cls_model.fit(x_train,\n",
    "                        y_train,\n",
    "                        epochs=NUM_EPOCHS,\n",
    "                        shuffle = True,\n",
    "                        batch_size=BATCH_SIZE,\n",
    "                        validation_data=(x_val, y_val),                          \n",
    "                        callbacks=[earlystop_callback, cp_callback])\n",
    "\n",
    "\n",
    "print(history.history)"
   ]
  },
  {
   "cell_type": "code",
   "execution_count": 24,
   "metadata": {},
   "outputs": [
    {
     "name": "stderr",
     "output_type": "stream",
     "text": [
      "2000it [00:00, 4640.09it/s]"
     ]
    },
    {
     "name": "stdout",
     "output_type": "stream",
     "text": [
      "num sents, labels 2000, 2000\n"
     ]
    },
    {
     "name": "stderr",
     "output_type": "stream",
     "text": [
      "\n"
     ]
    }
   ],
   "source": [
    "input_ids = []\n",
    "attention_masks = []\n",
    "token_type_ids = []\n",
    "test_data_labels = []\n",
    "\n",
    "for test_sent, test_label in tqdm(zip(test_data[\"Text\"], test_data[\"Feeling_Saltlux\"])):\n",
    "    try:\n",
    "        input_id, attention_mask, token_type_id = bert_tokenizer(test_sent, MAX_LEN)\n",
    "\n",
    "        input_ids.append(input_id)\n",
    "        attention_masks.append(attention_mask)\n",
    "        token_type_ids.append(token_type_id)\n",
    "        test_data_labels.append(test_label)\n",
    "    except Exception as e:\n",
    "        print(e)\n",
    "        print(test_sent)\n",
    "        pass\n",
    "\n",
    "test_movie_input_ids = np.array(input_ids, dtype=int)\n",
    "test_movie_attention_masks = np.array(attention_masks, dtype=int)\n",
    "test_movie_type_ids = np.array(token_type_ids, dtype=int)\n",
    "test_movie_inputs = (test_movie_input_ids, test_movie_attention_masks, test_movie_type_ids)\n",
    "\n",
    "test_data_labels = np.asarray(test_data_labels, dtype=np.int32) #레이블 토크나이징 리스트\n",
    "\n",
    "print(\"num sents, labels {}, {}\".format(len(test_movie_input_ids), len(test_data_labels)))"
   ]
  },
  {
   "cell_type": "code",
   "execution_count": 25,
   "metadata": {},
   "outputs": [
    {
     "name": "stdout",
     "output_type": "stream",
     "text": [
      "125/125 [==============================] - 8s 67ms/step - loss: 2.1596 - accuracy: 0.6500\n",
      "test loss, test acc:  [2.1595633029937744, 0.6499999761581421]\n"
     ]
    }
   ],
   "source": [
    "results = cls_model.evaluate(test_movie_inputs, test_data_labels, batch_size=16)\n",
    "print(\"test loss, test acc: \", results)"
   ]
  },
  {
   "cell_type": "code",
   "execution_count": null,
   "metadata": {},
   "outputs": [],
   "source": []
  },
  {
   "cell_type": "code",
   "execution_count": 26,
   "metadata": {},
   "outputs": [
    {
     "data": {
      "image/png": "[encoded data removed]",
      "text/plain": [
       "<Figure size 432x288 with 1 Axes>"
      ]
     },
     "metadata": {
      "needs_background": "light"
     },
     "output_type": "display_data"
    }
   ],
   "source": [
    "plot_graphs(history, 'accuracy')"
   ]
  },
  {
   "cell_type": "code",
   "execution_count": 36,
   "metadata": {},
   "outputs": [
    {
     "data": {
      "image/png": "[encoded data removed]",
      "text/plain": [
       "<Figure size 432x288 with 1 Axes>"
      ]
     },
     "metadata": {
      "needs_background": "light"
     },
     "output_type": "display_data"
    }
   ],
   "source": [
    "plot_graphs(history, 'loss')\n"
   ]
  },
  {
   "cell_type": "code",
   "execution_count": null,
   "metadata": {},
   "outputs": [],
   "source": []
  },
  {
   "cell_type": "code",
   "execution_count": null,
   "metadata": {},
   "outputs": [],
   "source": []
  },
  {
   "cell_type": "code",
   "execution_count": 28,
   "metadata": {},
   "outputs": [],
   "source": [
    "def plot_confusion_matrix(cm, classes, normalize=False, title='Confusion matrix', cmap=plt.cm.Blues):\n",
    "    \"\"\"\n",
    "    This function prints and plots the confusion matrix.\n",
    "    Normalization can be applied by setting 'normalize=True'.\n",
    "    \"\"\"\n",
    "    plt.imshow(cm, interpolation='nearest', cmap=cmap)\n",
    "    plt.title(title)\n",
    "    plt.colorbar()\n",
    "    tick_marks=np.arange(len(classes))\n",
    "    plt.xticks(tick_marks, classes, rotation=45)\n",
    "    plt.yticks(tick_marks, classes)\n",
    "    \n",
    "    if normalize:\n",
    "        cm = cm.astype('float') / cm.sum(axis=1)[:, np.newaxis]\n",
    "        cm = np.around(cm,3)\n",
    "        \n",
    "    thresh = cm.max() / 2.\n",
    "    \n",
    "    for i, j in itertools.product(range(cm.shape[0]), range(cm.shape[1])):\n",
    "        plt.text(j, i, cm[i, j], horizontalalignment=\"center\", color=\"white\" if cm[i, j] > thresh else \"black\")\n",
    "        \n",
    "    plt.tight_layout()\n",
    "    plt.ylabel('True label')\n",
    "    plt.xlabel('Predicted label')"
   ]
  },
  {
   "cell_type": "code",
   "execution_count": 29,
   "metadata": {},
   "outputs": [
    {
     "name": "stdout",
     "output_type": "stream",
     "text": [
      "WARNING:tensorflow:The parameters `output_attentions`, `output_hidden_states` and `use_cache` cannot be updated when calling a model.They have to be set to True/False in the config object (i.e.: `config=XConfig.from_pretrained('name', output_attentions=True)`).\n",
      "WARNING:tensorflow:The parameter `return_dict` cannot be set in graph mode and will always be set to `True`.\n"
     ]
    },
    {
     "data": {
      "text/plain": [
       "array([[-5.181718  , -1.6064967 , -2.7068334 , ...,  6.9444013 ,\n",
       "        -1.6309143 , -3.7577057 ],\n",
       "       [-1.9206053 ,  2.0098882 , -3.1441529 , ..., -1.6479049 ,\n",
       "         1.2217448 ,  2.2684705 ],\n",
       "       [-4.374451  ,  1.828919  , -3.2682202 , ...,  5.7952237 ,\n",
       "        -1.2395701 , -4.557975  ],\n",
       "       ...,\n",
       "       [-4.2376986 , -0.864794  ,  0.7534424 , ...,  1.5639521 ,\n",
       "        -1.5936769 , -0.5462153 ],\n",
       "       [-4.9006114 , -1.3577623 , -3.5070524 , ...,  8.858694  ,\n",
       "        -1.7982383 , -2.3734915 ],\n",
       "       [-5.0234523 ,  0.03386622, -1.2847917 , ...,  9.159009  ,\n",
       "        -4.130806  , -2.8413324 ]], dtype=float32)"
      ]
     },
     "execution_count": 29,
     "metadata": {},
     "output_type": "execute_result"
    }
   ],
   "source": [
    "cls_model.predict(test_movie_inputs)"
   ]
  },
  {
   "cell_type": "code",
   "execution_count": 40,
   "metadata": {},
   "outputs": [],
   "source": [
    "def create_sentiment_bert():\n",
    "    cls_model = TFBertClassifier(model_name='bert-base-multilingual-cased',\n",
    "                                  dir_path='bert_ckpt',\n",
    "                                  num_class=8)\n",
    "    \n",
    "    optimizer = tfa.optimizers.RectifiedAdam(lr=5.0e-5, total_steps = 2344*2, warmup_proportion=0.1, min_lr=1e-5, epsilon=1e-08, clipnorm=1.0)\n",
    "    loss = tf.keras.losses.SparseCategoricalCrossentropy(from_logits=True)\n",
    "    metric = tf.keras.metrics.SparseCategoricalAccuracy('accuracy')\n",
    "    \n",
    "    cls_model.compile(optimizer=optimizer, loss=loss, metrics=[metric])\n",
    "\n",
    "    cls_model.load_weights('./data_out/KOR/tf2_bert_naver_movie/weights.h5')\n",
    "\n",
    "\n",
    "def create_sentiment_bert():\n",
    "  # 버트 pretrained 모델 로드\n",
    "  cls_model = TFBertClassifier(model_name='bert-base-multilingual-cased',\n",
    "                                  dir_path='bert_ckpt',\n",
    "                                  num_class=8)\n",
    "  \n",
    "  # 토큰 인풋, 마스크 인풋, 세그먼트 인풋 정의\n",
    "  token_inputs = tf.keras.layers.Input((SEQ_LEN,), dtype=tf.int32, name='input_word_ids')\n",
    "  mask_inputs = tf.keras.layers.Input((SEQ_LEN,), dtype=tf.int32, name='input_masks')\n",
    "  segment_inputs = tf.keras.layers.Input((SEQ_LEN,), dtype=tf.int32, name='input_segment')\n",
    "\n",
    "  # 인풋이 [토큰, 마스크, 세그먼트]인 모델 정의\n",
    "  bert_outputs = model([token_inputs, mask_inputs, segment_inputs])\n",
    "  bert_outputs = bert_outputs[1]\n",
    "  sentiment_first = tf.keras.layers.Dense(1, activation='sigmoid', kernel_initializer=tf.keras.initializers.TruncatedNormal(stddev=0.02))(bert_outputs)\n",
    "  sentiment_model = tf.keras.Model([token_inputs, mask_inputs, segment_inputs], sentiment_first)\n",
    "\n",
    "  cls_model.compile(optimizer=optimizer, loss=loss, metrics=[metric])\n",
    "  return sentiment_model"
   ]
  },
  {
   "cell_type": "code",
   "execution_count": null,
   "metadata": {},
   "outputs": [],
   "source": []
  },
  {
   "cell_type": "code",
   "execution_count": 41,
   "metadata": {},
   "outputs": [],
   "source": [
    "import itertools"
   ]
  },
  {
   "cell_type": "code",
   "execution_count": 45,
   "metadata": {},
   "outputs": [
    {
     "data": {
      "image/png": "[encoded data removed]",
      "text/plain": [
       "<Figure size 432x288 with 2 Axes>"
      ]
     },
     "metadata": {
      "needs_background": "light"
     },
     "output_type": "display_data"
    }
   ],
   "source": [
    "#검증 데이터 셋의 값을 예측\n",
    "#loaded_model = cls_model()\n",
    "cls_model.load_weights('./data_out/KOR/tf2_bert_naver_movie/weights.h5')\n",
    "\n",
    "# 예측 클래스를 하나의 핫 벡터로 변환\n",
    "Y_pred = cls_model.predict(test_movie_input_ids)\n",
    "\n",
    "# 검증 관측치를 하나의 핫 벡터로 변환\n",
    "Y_pred_classes = np.argmax(Y_pred, axis = 1)\n",
    "\n",
    "# 혼동 행렬 계산\n",
    "confusion_mtx = confusion_matrix(test_data_labels, Y_pred_classes)\n",
    "\n",
    "# 혼동 행렬 플로팅\n",
    "plot_confusion_matrix(confusion_mtx, classes = range(7))"
   ]
  },
  {
   "cell_type": "code",
   "execution_count": 44,
   "metadata": {},
   "outputs": [
    {
     "data": {
      "image/png": "[encoded data removed]",
      "text/plain": [
       "<Figure size 432x288 with 2 Axes>"
      ]
     },
     "metadata": {
      "needs_background": "light"
     },
     "output_type": "display_data"
    }
   ],
   "source": [
    "Y_pred_classes = np.argmax(Y_pred, axis = 1)\n",
    "\n",
    "# 혼동 행렬 계산\n",
    "confusion_mtx = confusion_matrix(test_data_labels, Y_pred_classes)\n",
    "\n",
    "# 혼동 행렬 플로팅\n",
    "plot_confusion_matrix(confusion_mtx, classes = range(8),normalize = True)"
   ]
  },
  {
   "cell_type": "code",
   "execution_count": null,
   "metadata": {},
   "outputs": [],
   "source": []
  },
  {
   "cell_type": "code",
   "execution_count": null,
   "metadata": {},
   "outputs": [],
   "source": [
    "text_list = ['별난 재주 삼형제옛날 시골마을에 별난 재주 세 형제가 살았습니다', ' 눈이 밝은 맏이는 별별 것을 다 봅니다', ' 둘째는 천하장사 바윗돌도 번쩍번쩍', ' 개구쟁이 막내는 희한한 재주인데 매 맞는 재주입니다', ' 회초리로 때리면 간지럽다고 깔깔대고 절굿공이 내리치면 시원하다 깔깔댑니다', ' 그러던 어느 날 마을에 흉년이 들어 세 형제는 쫄쫄 굶고 나무뿌리 캐 먹으러 산 위로 올라갔습니다', ' “사람들 어찌 사나 어디 한 번 둘러볼까?” 눈 밝은 맏이가 어허 쯧쯧 혀를 찹니다', ' 논바닥이 쩌억 갈라지고 나무껍질이 홀라당 벗겨져 있었어요', ' 어른들은 굶어서 눈이 움푹 들어가고 아이들은 배고파 울고불고 소리칩니다', ' “으앙 배고파~”그중에서 어디서 밥을 짓나 하얀 연기가 모락모락 피어 오르고 있었어요', ' “마을 사또 사는 곳에 잔치가 열렸구나” 곡간에는 쌀가마니가 산처럼 쌓여 있고 대청마루 상 위에는 온갖 음식이 가득히 차려져 있었어요', ' 땀 흘려 거둔 곡식을 사또 혼자 차지한 것입니다', ' 세 형제는 그 모습을 보고 화가 나서 이리해 볼까, 저리해 볼까 고민을 했습니다', ' 밤은 깊어 가는데 둘째가 쌀가마를 이고 갑니다', ' 이 집 저 집 다니며 배불리 먹으라고 세 형제는 밤새도록 홍길동 노릇을 합니다', ' “야단났네! 야단났어! 곡간이 텅 비었네!” 자신의 곡간이 도둑이 든 것을 안 사또는 소리칩니다', ' 대신 집집마다 밥을 짓는 연기로 하얀 연기가 나오고 있었습니다', ' 욕심 많은 사또는 화가 났습니다', '온 마을 사람들이 끌려와서 성난 사또 눈길을 피해 벌벌 떨고 있는데 막내가 쏜살같이 달려와 “내가 바로 도둑이오!”라고 말을 합니다', ' 결국 막내는 형틀에 묶여 맨 궁둥이 까발리고 철썩 곤장을 맞습니다', ' 사람들은 무서워 벌벌 떠는데 “아 시원하다!”라고 막내는 좋아합니다', ' 한 사람씩 돌아가며 곤장 백 대 내리쳐도 졸린 듯 따분한 듯 막내는 하품을 합니다', ' 오히려 때리는 놈들이 힘들어합니다', ' 보다 못한 사또가 곤장을 칩니다', ' 약이 오른 사또는 날뛰다 뒤로 넘어져 버립니다', ' 결국 지친 사또는 세 형제를 집으로 돌려보내고, 사이 좋은 세 형제는 집으로 돌아갑니다', '신기한 재주를 가진 삼 형제는 자신들의 재주로 굶어가는 마을 사람들을 돕습니다', ' 자신의 장점과 재주가 무엇인지 알고 이를 좋은 곳에 쓴 삼 형제는 우리가 본받아야 할 부분입니다', ' 사또는 자신의 이익만 취하려고 하다가 결국 가지고 있던 것도 모두 잃은 케이스로 과도한 욕심은 오히려 독이 되는 경우가 있습니다', ' 그러므로 우리는 과도한 욕심을 부리지 않는 것은 물론 내가 갖고 있는 장점으로 남을 도울 수 있는 지혜를 기를 수 있는 노력이 필요합니다', '']"
   ]
  },
  {
   "cell_type": "code",
   "execution_count": null,
   "metadata": {},
   "outputs": [],
   "source": [
    "def multi_book_evaluation_predict(text_list):\n",
    "    for data in text_list :\n",
    "        global tokenizer\n",
    "        SEQ_LEN = 64\n",
    "        tokens, masks, segments = [], [], []\n",
    "        token = tokenizer.encode(data,\n",
    "                                 max_length=SEQ_LEN,\n",
    "                                 truncation=True,\n",
    "                                 padding='max_length')\n",
    "        num_zeros = token.count(0)\n",
    "        \n",
    "        mask = [1]*(SEQ_LEN-num_zeros) + [0]*num_zeros\n",
    "        segment = [0]*SEQ_LEN\n",
    "        \n",
    "        tokens.append(token)\n",
    "        segments.append(segment)\n",
    "        masks.append(mask)\n",
    "        \n",
    "        tokens = np.array(tokens)\n",
    "        masks = np.array(masks)\n",
    "        segments = np.array(segments)\n",
    "        \n",
    "        data_x =  [tokens, masks, segments]\n",
    "        predict = loaded_model.predict(data_x)\n",
    "        \n",
    "        feeling = 0\n",
    "        top_percent = 0\n",
    "        \n",
    "        for predic in predict:\n",
    "            for i,pred in enumerate(predic):\n",
    "                if top_percent < pred :\n",
    "                    top_percent = pred\n",
    "                    feeling = i\n",
    "                    \n",
    "        print(data)\n",
    "        print(predic, feeling, top_percent)"
   ]
  },
  {
   "cell_type": "code",
   "execution_count": null,
   "metadata": {},
   "outputs": [],
   "source": []
  },
  {
   "cell_type": "code",
   "execution_count": null,
   "metadata": {},
   "outputs": [],
   "source": []
  },
  {
   "cell_type": "code",
   "execution_count": null,
   "metadata": {},
   "outputs": [],
   "source": []
  },
  {
   "cell_type": "code",
   "execution_count": null,
   "metadata": {},
   "outputs": [],
   "source": []
  }
 ],
 "metadata": {
  "kernelspec": {
   "display_name": "Python 3",
   "language": "python",
   "name": "python3"
  },
  "language_info": {
   "codemirror_mode": {
    "name": "ipython",
    "version": 3
   },
   "file_extension": ".py",
   "mimetype": "text/x-python",
   "name": "python",
   "nbconvert_exporter": "python",
   "pygments_lexer": "ipython3",
   "version": "3.8.5"
  }
 },
 "nbformat": 4,
 "nbformat_minor": 4
}
